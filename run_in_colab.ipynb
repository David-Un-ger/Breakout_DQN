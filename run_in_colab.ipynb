{
  "nbformat": 4,
  "nbformat_minor": 0,
  "metadata": {
    "kernelspec": {
      "display_name": "Python 3.9.9 64-bit ('base39': venv)",
      "name": "python399jvsc74a57bd0d8d4156b2787bd13e2c930d9b973ab02563bf303cb6ce4e5b490ed11c7aabca6"
    },
    "language_info": {
      "name": "python",
      "version": ""
    },
    "orig_nbformat": 2,
    "colab": {
      "name": "run_in_colab.ipynb",
      "provenance": []
    }
  },
  "cells": [
    {
      "cell_type": "markdown",
      "metadata": {
        "id": "tnqNK87AqtmO"
      },
      "source": [
        "[![Open In Colab](https://colab.research.google.com/assets/colab-badge.svg)]\n",
        "(https://colab.research.google.com/github/FinnHendricks/Breakout_DQN/blob/master/run_in_colab.ipynb)"
      ]
    },
    {
      "cell_type": "code",
      "metadata": {
        "id": "57_0u9-gqtmS",
        "outputId": "aae83787-9565-4423-82af-25599c9ba654",
        "colab": {
          "base_uri": "https://localhost:8080/"
        }
      },
      "source": [
        "%%capture\n",
        "!git clone https://github.com/FinnHendricks/Breakout_DQN.git\n",
        "!pip install wandb"
      ],
      "execution_count": 1,
      "outputs": [
        {
          "output_type": "stream",
          "name": "stdout",
          "text": [
            "Cloning into 'Breakout_DQN'...\n",
            "remote: Enumerating objects: 66, done.\u001b[K\n",
            "remote: Counting objects: 100% (66/66), done.\u001b[K\n",
            "remote: Compressing objects: 100% (28/28), done.\u001b[K\n",
            "remote: Total 66 (delta 45), reused 57 (delta 37), pack-reused 0\u001b[K\n",
            "Unpacking objects: 100% (66/66), done.\n"
          ]
        }
      ]
    },
    {
      "cell_type": "code",
      "metadata": {
        "id": "N3rs6dshqtmT"
      },
      "source": [
        "%cd content/Breakout_DQN/\n",
        "!python dqn_cartpole_wandb.py"
      ],
      "execution_count": null,
      "outputs": []
    }
  ]
}